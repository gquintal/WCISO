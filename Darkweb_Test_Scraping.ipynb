{
  "nbformat": 4,
  "nbformat_minor": 0,
  "metadata": {
    "colab": {
      "provenance": [],
      "toc_visible": true,
      "include_colab_link": true
    },
    "kernelspec": {
      "name": "python3",
      "display_name": "Python 3"
    },
    "language_info": {
      "name": "python"
    }
  },
  "cells": [
    {
      "cell_type": "markdown",
      "metadata": {
        "id": "view-in-github",
        "colab_type": "text"
      },
      "source": [
        "<a href=\"https://colab.research.google.com/github/gquintal/WCISO/blob/main/Darkweb_Test_Scraping.ipynb\" target=\"_parent\"><img src=\"https://colab.research.google.com/assets/colab-badge.svg\" alt=\"Open In Colab\"/></a>"
      ]
    },
    {
      "cell_type": "markdown",
      "source": [
        "# Ejercicio\n",
        "Instalar Tor en nuestro notebook"
      ],
      "metadata": {
        "id": "QH9grElyMVEO"
      }
    },
    {
      "cell_type": "code",
      "execution_count": null,
      "metadata": {
        "id": "OvD5ABzsCgB2"
      },
      "outputs": [],
      "source": [
        "! sudo apt update\n",
        "! sudo apt install tor"
      ]
    },
    {
      "cell_type": "code",
      "source": [
        "! sudo sed -i 's/#ControlPort 9051/ControlPort 9051/' /etc/tor/torrc\n",
        "! sudo sed -i 's/#CookieAuthentication 1/CookieAuthentication 0/' /etc/tor/torrc"
      ],
      "metadata": {
        "id": "53OTcOrVVtSe"
      },
      "execution_count": null,
      "outputs": []
    },
    {
      "cell_type": "code",
      "source": [
        "! sudo /etc/init.d/tor restart"
      ],
      "metadata": {
        "id": "BUhZMCwtU3zg"
      },
      "execution_count": null,
      "outputs": []
    },
    {
      "cell_type": "code",
      "source": [
        "! curl ifconfig.me"
      ],
      "metadata": {
        "colab": {
          "base_uri": "https://localhost:8080/"
        },
        "id": "JoeC4Xw2W1BT",
        "outputId": "a57d10b6-db3d-4b23-d7b3-a931971092d6"
      },
      "execution_count": null,
      "outputs": [
        {
          "output_type": "stream",
          "name": "stdout",
          "text": [
            "35.197.26.147"
          ]
        }
      ]
    },
    {
      "cell_type": "code",
      "source": [
        "! torify curl ifconfig.me 2>/dev/null"
      ],
      "metadata": {
        "colab": {
          "base_uri": "https://localhost:8080/"
        },
        "id": "FDT5RgDEW5YX",
        "outputId": "8355475a-f882-4acf-99ad-3a64b9ce6ffb"
      },
      "execution_count": null,
      "outputs": [
        {
          "output_type": "stream",
          "name": "stdout",
          "text": [
            "104.244.78.233"
          ]
        }
      ]
    },
    {
      "cell_type": "markdown",
      "source": [
        "Paso opcional:\n",
        "Se puede generar un nuevo circuito para obtener una dirección ip"
      ],
      "metadata": {
        "id": "180VltUJXQqD"
      }
    },
    {
      "cell_type": "code",
      "source": [
        "! sudo apt install nc\n",
        "! echo -e 'AUTHENTICATE \"\"\\r\\nsignal NEWNYM\\r\\nQUIT' | nc 127.0.0.1 9051"
      ],
      "metadata": {
        "id": "Iucz14bLXa9Q",
        "colab": {
          "base_uri": "https://localhost:8080/"
        },
        "outputId": "8a339037-1a27-43d0-83d8-9b40c01e5dae"
      },
      "execution_count": null,
      "outputs": [
        {
          "output_type": "stream",
          "name": "stdout",
          "text": [
            "/bin/bash: line 1: nc: command not found\n"
          ]
        }
      ]
    },
    {
      "cell_type": "markdown",
      "source": [
        "Mediante esta configuración ya se puede conectar a direcciones onion"
      ],
      "metadata": {
        "id": "fcmK8BfMOtDO"
      }
    },
    {
      "cell_type": "code",
      "source": [
        "! rm -rd ./TorBot\n",
        "! rm -rd ./torbot_venv/"
      ],
      "metadata": {
        "id": "zf1Fc4jF4Riv"
      },
      "execution_count": null,
      "outputs": []
    },
    {
      "cell_type": "code",
      "source": [
        "! sudo apt install python3.10-venv\n",
        "! python -m venv torbot_venv\n",
        "! git clone https://github.com/DedSecInside/TorBot.git\n",
        "! source torbot_venv/bin/activate\n",
        "! pip install -r ./TorBot/requirements.txt\n",
        "! pip install -e ./TorBot/.\n",
        "! ./TorBot/main.py --help"
      ],
      "metadata": {
        "id": "-LVfeZhR3dsl"
      },
      "execution_count": null,
      "outputs": []
    },
    {
      "cell_type": "code",
      "source": [
        "! ./TorBot/main.py -v -u http://7hho4jmka7lqxovw4hq5efp26uejscccp6m3mevenjuccvh3ucbz3nid.onion"
      ],
      "metadata": {
        "colab": {
          "base_uri": "https://localhost:8080/"
        },
        "id": "zGGEtRXOBm25",
        "outputId": "d67b700f-f45e-480f-ecae-b0b0023a67d9"
      },
      "execution_count": null,
      "outputs": [
        {
          "output_type": "stream",
          "name": "stdout",
          "text": [
            "\n",
            "                                    \u001b[1;31m\n",
            "                            __  ____  ____  __        ______\n",
            "                            / /_/ __ \\/ __ \\/ /_  ____/_  __/\n",
            "                        / __/ / / / /_/ / __ \\/ __ \\/ /\n",
            "                        / /_/ /_/ / _, _/ /_/ / /_/ / /\n",
            "                        \\__/\\____/_/ |_/_____/\\____/_/  v4.1.0\n",
            "            \u001b[0;0m\n",
            "                    #######################################################\n",
            "                    #  TorBot - Dark Web OSINT Tool                       #\n",
            "                    #  GitHub : https://github.com/DedsecInside/TorBot    #\n",
            "                    #  Help : use -h for help text                        #\n",
            "                    #######################################################\n",
            "                                \u001b[1;31mLICENSE: GNU Public License v3\u001b[0;0m\n",
            "            \n",
            "Congratulations. This browser is configured to use Tor.\n",
            "\u001b[1;33mYour IP address appears to be:  45.148.10.169\u001b[0;0m\n"
          ]
        }
      ]
    }
  ]
}